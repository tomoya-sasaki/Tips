{
 "cells": [
  {
   "cell_type": "code",
   "execution_count": 4,
   "metadata": {
    "collapsed": true
   },
   "outputs": [],
   "source": [
    "import os\n",
    "import glob\n",
    "import re"
   ]
  },
  {
   "cell_type": "code",
   "execution_count": 2,
   "metadata": {
    "collapsed": true
   },
   "outputs": [],
   "source": [
    "os.chdir('/Users/tomoyasasaki/Google ドライブ/Lecture/CP_Kenneth/')"
   ]
  },
  {
   "cell_type": "code",
   "execution_count": 3,
   "metadata": {},
   "outputs": [
    {
     "data": {
      "text/plain": [
       "'/Users/tomoyasasaki/Google ドライブ/Lecture/CP_Kenneth'"
      ]
     },
     "execution_count": 3,
     "metadata": {},
     "output_type": "execute_result"
    }
   ],
   "source": [
    "os.getcwd()"
   ]
  },
  {
   "cell_type": "code",
   "execution_count": 11,
   "metadata": {
    "collapsed": true
   },
   "outputs": [],
   "source": [
    "file_path = '/Users/tomoyasasaki/Google ドライブ/Lecture/CP_Kenneth/0415report_sasaki.tex'"
   ]
  },
  {
   "cell_type": "code",
   "execution_count": 12,
   "metadata": {},
   "outputs": [
    {
     "ename": "FileNotFoundError",
     "evalue": "[Errno 2] No such file or directory: '/Users/tomoyasasaki/Google ドライブ/Lecture/CP_Kenneth/0415report_sasaki.tex'",
     "output_type": "error",
     "traceback": [
      "\u001b[0;31m---------------------------------------------------------------------------\u001b[0m",
      "\u001b[0;31mFileNotFoundError\u001b[0m                         Traceback (most recent call last)",
      "\u001b[0;32m<ipython-input-12-cdc94edd31e1>\u001b[0m in \u001b[0;36m<module>\u001b[0;34m()\u001b[0m\n\u001b[0;32m----> 1\u001b[0;31m \u001b[0;32mwith\u001b[0m \u001b[0mopen\u001b[0m\u001b[0;34m(\u001b[0m\u001b[0mfile_path\u001b[0m\u001b[0;34m,\u001b[0m \u001b[0;34m\"r\"\u001b[0m\u001b[0;34m)\u001b[0m \u001b[0;32mas\u001b[0m \u001b[0mfile\u001b[0m\u001b[0;34m:\u001b[0m\u001b[0;34m\u001b[0m\u001b[0m\n\u001b[0m\u001b[1;32m      2\u001b[0m     \u001b[0mdocument\u001b[0m \u001b[0;34m=\u001b[0m \u001b[0mfile\u001b[0m\u001b[0;34m.\u001b[0m\u001b[0mread\u001b[0m\u001b[0;34m(\u001b[0m\u001b[0;34m)\u001b[0m\u001b[0;34m\u001b[0m\u001b[0m\n",
      "\u001b[0;31mFileNotFoundError\u001b[0m: [Errno 2] No such file or directory: '/Users/tomoyasasaki/Google ドライブ/Lecture/CP_Kenneth/0415report_sasaki.tex'"
     ]
    }
   ],
   "source": [
    "with open(file_path, \"r\") as file:\n",
    "    document = file.read()"
   ]
  },
  {
   "cell_type": "code",
   "execution_count": 13,
   "metadata": {},
   "outputs": [
    {
     "ename": "NameError",
     "evalue": "name 'document' is not defined",
     "output_type": "error",
     "traceback": [
      "\u001b[0;31m---------------------------------------------------------------------------\u001b[0m",
      "\u001b[0;31mNameError\u001b[0m                                 Traceback (most recent call last)",
      "\u001b[0;32m<ipython-input-13-2058d27c5da9>\u001b[0m in \u001b[0;36m<module>\u001b[0;34m()\u001b[0m\n\u001b[0;32m----> 1\u001b[0;31m \u001b[0mdocument\u001b[0m\u001b[0;34m\u001b[0m\u001b[0m\n\u001b[0m",
      "\u001b[0;31mNameError\u001b[0m: name 'document' is not defined"
     ]
    }
   ],
   "source": [
    "document"
   ]
  },
  {
   "cell_type": "code",
   "execution_count": 8,
   "metadata": {
    "collapsed": true
   },
   "outputs": [],
   "source": [
    "test = '\\begin{document}aaifjioasjdoifajewoifjoaw ifejwiaojo;aijioao\\end{document}'"
   ]
  },
  {
   "cell_type": "code",
   "execution_count": 9,
   "metadata": {},
   "outputs": [
    {
     "data": {
      "text/plain": [
       "'\\x08egin{document}aaifjioasjdoifajewoifjoaw ifejwiaojo;aijioao\\\\end{document}'"
      ]
     },
     "execution_count": 9,
     "metadata": {},
     "output_type": "execute_result"
    }
   ],
   "source": [
    "test"
   ]
  },
  {
   "cell_type": "code",
   "execution_count": 10,
   "metadata": {},
   "outputs": [
    {
     "data": {
      "text/plain": [
       "'aaifjioasjdoifajewoifjoaw ifejwiaojo;aijioao\\\\'"
      ]
     },
     "execution_count": 10,
     "metadata": {},
     "output_type": "execute_result"
    }
   ],
   "source": [
    "re.search(\"\\begin{document}(?P<Text>.+?)\\end{document}\", test).group(\"Text\")"
   ]
  },
  {
   "cell_type": "code",
   "execution_count": 53,
   "metadata": {},
   "outputs": [],
   "source": [
    "test2 = \"\\begin{document}\\n\\\\begin{spacing}{0.5}\\n\\\\title{State}\\n\\\\author{Tomoya Sasaki}\\n%\\\\date{}\\n\\\\maketitle\\n\\\\end{spacing}\\n%\\n%\\\\begin{center}\\n%\\n%\\\\end{center}\\n%\\n%\\\\begin{flushright}\\n%\\\\end{flushright}\\n\\nThe creation of modern state might sound anachronistic but how to consolidate political order in the perimeter is a universal question. \\nWhen we look at the world around us, some states are suffering from the absence of least ruling system.\\nWithout a stable political order with adequate systems to endure it, it is difficult to achieve economic development or to provide social welfare.\\nThe papers I discuss here deal with the fundamental issue of state: the state formation.\\nThe central questions of these papers are ; how political order emerged out of anarchical society; and how modern states emerged/remained. \\nIn this report, baed on the previous argument, I try to draw a roadmap which would deepen our understanding on the state formation.\\n\\nThe rest of the paper is organized as follows.\\nFirstly, this report summarize the four papers and discuss what we learn from them. \\nThe next section points out the weakness of those papers, showing that the papers do not provide sufficient condition of the change from anarchy to political order and from medieval states to modern states, and the scope of the analysis is limited to the experience of Western Europe. \\nFinally, I consider the possible future direction which would make a progress in this field of research. \\n\\n% First question why order?\\nAs noted above, two fundamental question \\nThe first question is mainly argued in \\\\textcite{Olson1993} and \\\\textcite{Boix2015} (also partly in \\\\textcite{Herbst1990} and \\\\textcite{Spruyt2002}).\\n\\n% Summary of Olson\\n\\n\\n% Summary of Boix\\n\\n\\n\\nThe second question \\n% Summary of Tilly\\nThe main argument of \\\\textcite{Tilly1985} is that `` War making, extraction, and capital accumulation interacted to shape European state making.''\\nState formation was not what kings intented to accomplish.\\nThey were just trying to fight wars effectively and ensure their rule within the perimeter.\\n\\n% summary of Spruyt\\nSpruyt offers a comprehensive summary of existing literature on the state formation. Firstly he compares security, economic, and institutionalist approaches, which are the three major accounts for the emergence and development of the modern states.\\n\\n% Summary of Herbst\\nBased on Tilly's war hypothesis, \\\\textcite{Herbst1990} expands the scope the analysis beyond Europe and consider the fact that African continent is suffering from the failure of state consolidation.\\n\\n\\n% Weakness of existing literature\\nWhile these papers offer a number of valuable insights into the originof political order and the modern states, there remains some weakness in their argument where we could improve.\\n\\n% insufficinet explanation of the change\\nThe first weakness of the existing literature is that they do not necessarily offer the sufficient conditions which bring about the change from anarchy to political order or the medieval states to the modern states. \\n\\n% origin of political order\\nFor the first question, why political order emerged, existing theories explain why forming a state (or create democratic institutions) could be beneficial for both bandits and ordinary citizens but they do not necessarily provide  how it is accomplished.\\nEmploying China's experience in the 1920s, \\\\textcite{Olson1993} delineates Feng Yu-hsiang as the ``exceptional'' warload who surpressed other bandits and became stationary bandit.\\nIf we accept this description, another puzzle comes up.\\nWhat differentiate the ones who started to form states from other bandits who continute to rove around?\\nWas it just an accident that Feng Yu-hsiang decide to settle down?\\nApparently some bandits decide to create some political order whle other remained roving.\\nAs this example shows, even if we learn that it is optimal stragy for bandits to settle down and collect tax, this does not necessarily explain some bandits become stationary bandit and gradually expand their rule.\\n\\n\\n% war hypothesis; weak states were curtailed\\nThe second question, which asks why modern states emerged, also faces some challenges to its logical consistency and explanation power to explain the transformation.\\n\\nFirstly, war hypothesis, consciously of unconsciously ignore the fact that not all states that involved in war achieved the formation of the modern states.\\nWe have to realize that those who successfully accumulate tax and subdue warlords formed the modern state under the competition with other polities.\\nIt might be true that some states successfully accomplish modern state building with the assistance of external war and internal coercion, but there are many other political entities which failed to mobilize their resource within perimeter only to lose in wars and disappear.\\nThis possibility indicates that we need some additional conditions which distinguish the succceded and failed polities in the formation of the modern state.\\n\\n% war hypothesis; is war really exogeneous? figure on page 183\\nSecondly it is too naive to assume that war is an exogenous ``shock.''\\nAgain let's consider Tilly's explanation.\\nThe figure on page 183 shows the interaction between war making, extraction, protection, and state making.\\nThis figure offers clear relationships around war and state formation. \\nHowever, what is questionable in this model is that no arrows run into ``war'', indicating that war is exogenous to any other factors. \\nWar might be endogenous to some other factors, for instance leader's power or country's resouce which might also affect the formation of the modern state. \\nOccam's razor is a princple of simplification but too much simplification would be misleading and impede our understanding on complicated social phenomena.\\n\\n% economic hypothesis; is economic development really exogeneous?\\nSame logic could be applied to economic hypothesis as well, which impliciltly assume that economic develpoment as an exogenous factor in their model.\\nThe literature on political economy places political instutitions as the critical ingredient of economic development.\\nAccording to those literature, political institutions at time $t$ influences economic condition at time $t$, and again it determines the future status of political institutions at time $t+1$.\\nThis dynamical system indicates endoneous relationship between economic factor and the modern state.\\nFrom this point of view, we need to scrutinize the plausibiity of the hidden assumption of the economic hypothesis in order to provide sufficient and consistent explanation of the emergence of the modern states.\\n\\n% war hypothesis; war -> tax is not inevitable, king can borrow from other countries\\n\\n%- (from Tilly and Spruyt) for example, war and states, which is first? How could states mobilize their resources in order to initiate and continue the war? Why powerful bandits or warlords within countries obeyed? p175 explains the means but it does not answer why it was possible.  (``a tendency to monopolize the means of violence makes a government's claim to provide protection'' = authority? Then what made this tendency?) \\n\\n%- since state formation require a fair amount of time,  often continuing for decades, it is difficult to identify which factors contributed to the formation of states, which we know now\\n\\n\\n% the analysis is limited to europe\\n% 19th century latin america or 20th century asia is different\\n% implicitly assume linear relation between state formation and representative government\\n\\nThe second weakness of existing literature is that those analyses are limited to the view of Europe. \\nThe three dominant view of the state formation, war hypothesis, economic development hypothesis, and institutionalist hypothesis, are all based on the experience of medieval to modern Europe. \\nThese theoretical perspectives might fit well in the European context, once we extend our view beyond Europe, the plausibility of these explanations become questionable. \\n\\nFor the war hypothesis, war has frequently occurred in other part of the globe as well, including the places which does not explain form modern centralized states like Europe. \\nChina or middle East, for example, experienced quite a number of wars, but the modern states that has emerged in Europe did not appeared.\\n\\nFrom this point of view, \\\\textcite{Herbst1990} might be too pessimistic about the future of African continent.\\nHe bases his analysis on Tilly's war hypothesis, but this hypothesis would not be the only path to the modern states.\\nInternational norm is certainly different from 17th-18th century Europe and foreign countries or international organizations could support buidling and consolidating state system.\\n\\n\\n% possible development of the analysis\\nTo develop and refine the argument, I provide two roadmaps which would contribute to the development of understanding the state formation.\\n\\n% change the war of asking questions\\n% focus on more micro mechanism \\nMy first suggestion to change the way of asking questions in order to understand the emergence of political order of the modern states. \\nThe previous literature has offer strong theretical and empirical evidence of the relationship between external war and formation of the modern states.\\n- we would like to focus on the interaction of multiple factors\\n- we could break down tge big questions ino smaller questions and also change the way of asking questions\\n- why did warlords start to obey? When and how do kings obtain the capability to collect taxes? (for the first point)\\n\\n\\nSince state formation is a complicated phenomena with an involvement of multiple actors and possiblly ouside forces, it is quite difficult to provide inclusive explanation \\n\\nExploring the micro foundation of state formation would have huge policy implication as well.\\nEven though we accumulate the emprilical findings of robust relationships between external war and the state formation, it does not offer \\nIt is ethically difflcult to encourage the failed states to involve in interstate wars.\\nRather, if we obtain better understandings on interaction between key actors, policy makers to some extent can apply these findings and might carry out effective program to enhance state capacity and stability.\\n \\nFurthermore, tackling the question of state formation would be beneficial for understanding this phenomena beyond the experience of Europe, with some assistance of other subfield in political science.\\nFor example, we can connect the literature on state formation with the literature on reconstruction of state after civil wars, which has been extensively analyzed in International Relations (IR).\\nThere is a huge literatuer in IR on how to maitain peace and how to prevent recurrence of violent crash.\\nHowever, it seems there is little focus on how to rebuild the war-torn states in IR literature.\\nContrary, the literature on state formation has little interest on the state construction or inadequately applys Tilly's model as did in \\\\textcite{Herbst1990}.\\nSince state rebuildling is an urgent issue, especially in Africa and the Middle East, bridging over these two field of research would be beneficial for achiving more insights on the state formation beyond the experience of Europe.\\n\\n- there seems to be little focus on how to rebuild the war-torn states\\n- these analysis needs to include outside actors so it would be interdisciplinary of IR and Comparative Politics\\n\\n\\n\\n% use new data and find empirical evidence\\n\\n\\n%2. The analysis is limited to the scope of Europe\\n%- the most literature including the assignments this week rely their arguments on the experience of (Western) Europe\\n%- war hypothesis, economic development hypothesis, institutionalist hypothesis are all based on the experience of medieval to modern Europe\\n%- these explanations are difficult to extend outside Europe\\n%- (1) war (including civil war) has frequently occurred in the other part of the globe as well. Herbst argues that civil war and interstate war is different but both threaten the security of ordinary citizens. Moreover some civil war might be fueled by neighboring countries and thus the situation is similar to interstate wars. (from Herbst)\\n%- (2) economic development could be seen in China or the Middle East\\n%- the explanation based on the experience in Europe does not necessarily fit well in other regions\\n%\\n%- also the literature implicitly assume that the state development as a path to the development of representative government; linear explanation of state development to democracy (or at least the emergence of representative government)\\n%- we have little insights on the state development or construction in Africa or Asia, where some states are about to be torn apart and democratic governments are not necessarily accomplished long after state formation\\n%- Africa or Asia at least forced to create nation states, which Europe had never experienced\\n%\\n%\\n%The way to address the issues\\n%\\n%0. reconceptualization of the definition of 'state' \\n%- past literature equate modern state as territorial autonomy within perimeter or ability to collect tax\\n%- however (1) border has collapsed in EU region and (2) states are no longer capable of imposing tax on transnational enterprises\\n%- but states remains, we need to change our definition of states?\\n%\\n%\\n%1. Change the way of asking questions\\n%- it is almost impossible to offer an inclusive explanation about state formation\\n%- we would like to focus on the interaction of multiple factors\\n%- we could break down tge big questions ino smaller questions and also change the way of asking questions\\n%- why did warlords start to obey? When and how do kings obtain the capability to collect taxes? (for the first point)\\n% \\n%- how the states are restructured after civil wars (for the second point)\\n%- rich accumulation in IR on how to maintain peace or how to prevent the reappearance of belligerent actors \\n%- there seems to be little focus on how to rebuild the war-torn states\\n%- these analysis needs to include outside actors so it would be interdisciplinary of IR and Comparative Politics\\n%\\n%\\n%2. Empirical tests from new data source\\n%- the past literature propose interesting theoretical perspectives but lacks empirical foundation\\n%- novel data allows to empirically validate the existing theoretical expectations\\n%- geocoded data: (1) use old maps to measure the size of the state, (2) map the border and ethnic distribution to see the relationship between the degree of fragmentation of ethnicity (as a proxy for national identity) and state size or state effectiveness\\n%- the use of micro survey data to test the national identity\\n\\n\\n\\\\small\\n\\\\begin{spacing}{1.3}\\n\\\\printbibliography[title=Bibliography]\\n\\\\end{spacing}\\n% \\\\bibliography{Attention.bib}\\n% \\\\bibliographystyle{chicago}\\n\\\\end{document}\\n'\""
   ]
  },
  {
   "cell_type": "code",
   "execution_count": null,
   "metadata": {
    "collapsed": true
   },
   "outputs": [],
   "source": []
  }
 ],
 "metadata": {
  "kernelspec": {
   "display_name": "Python 3",
   "language": "python",
   "name": "python3"
  },
  "language_info": {
   "codemirror_mode": {
    "name": "ipython",
    "version": 3
   },
   "file_extension": ".py",
   "mimetype": "text/x-python",
   "name": "python",
   "nbconvert_exporter": "python",
   "pygments_lexer": "ipython3",
   "version": "3.6.4"
  }
 },
 "nbformat": 4,
 "nbformat_minor": 1
}
